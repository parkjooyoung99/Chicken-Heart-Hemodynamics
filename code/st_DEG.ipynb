{
 "cells": [
  {
   "cell_type": "code",
   "execution_count": null,
   "id": "4db7b076-88b6-47e4-9c5e-996ab3ebfa4f",
   "metadata": {},
   "outputs": [],
   "source": [
    "import matplotlib.pyplot as plt\n",
    "from matplotlib import cm\n",
    "from matplotlib.ticker import LinearLocator\n",
    "from matplotlib.colors import LinearSegmentedColormap\n",
    "from mpl_toolkits.mplot3d import Axes3D\n",
    "from mpl_toolkits.axes_grid1 import make_axes_locatable\n",
    "import random\n",
    "import os\n",
    "import sys\n",
    "import time\n",
    "import csv\n",
    "import re\n",
    "import pandas as pd\n",
    "import scanpy as sc\n",
    "import numpy as np\n",
    "import scipy.spatial as scisp\n",
    "from scipy.sparse import coo_matrix, csr_matrix, csc_matrix\n",
    "import math\n",
    "import anndata as ad\n",
    "import scanpy.external as sce\n",
    "from copy import copy\n",
    "import matplotlib as mpl\n",
    "import scanpy.external as sce\n",
    "import scipy.sparse as sp\n",
    "from statsmodels.nonparametric.smoothers_lowess import lowess\n",
    "from sklearn.metrics import r2_score\n",
    "from scipy.interpolate import interp1d\n",
    "import seaborn as sns\n",
    "import os\n",
    "from copy import copy\n",
    "import matplotlib.pyplot as plt\n",
    "from matplotlib.path import Path\n",
    "import gseapy as gp\n"
   ]
  },
  {
   "cell_type": "markdown",
   "id": "b4f96f7a-ec87-43ec-b792-d90ed9977b4e",
   "metadata": {},
   "source": [
    "# DEG - Normal LV vs LAL LV"
   ]
  },
  {
   "cell_type": "code",
   "execution_count": null,
   "id": "8a99d844-370a-427c-84bd-a06f261610d4",
   "metadata": {},
   "outputs": [],
   "source": [
    "adata_S = sc.read_h5ad('/workdir/jp2626/chickenheart/jy/graphst_res/noery/ST_D10_S/GraphST_ARI_mclust_cluster15.h5ad')\n",
    "napari = pd.read_csv('/workdir/jp2626/chickenheart/jy/compareRL/Ventricle_sub/napari/noery/meta_D10_S_napari_ventricle.csv', index_col='Unnamed: 0')\n",
    "napari_clean_id = napari.index[napari['region'] != 'Unlabeled']\n",
    "adata_S = adata_S[adata_S.obs.index.isin(napari_clean_id)].copy()\n",
    "napari_clean = napari.loc[adata_S.obs.index]\n",
    "adata_S.obs['region'] = napari_clean['region']\n",
    "\n",
    "adata_L = sc.read_h5ad('/workdir/jp2626/chickenheart/jy/graphst_res/noery/ST_D10_L/GraphST_ARI_mclust_cluster12.h5ad')\n",
    "napari = pd.read_csv('/workdir/jp2626/chickenheart/jy/compareRL/Ventricle_sub/napari/noery/meta_D10_L_napari_ventricle.csv', index_col='Unnamed: 0')\n",
    "napari_clean_id = napari.index[napari['region'] != 'Unlabeled']\n",
    "adata_L = adata_L[adata_L.obs.index.isin(napari_clean_id)].copy()\n",
    "napari_clean = napari.loc[adata_L.obs.index]\n",
    "adata_L.obs['region'] = napari_clean['region']\n",
    "\n",
    "\n",
    "adata = ad.concat([adata_S, adata_L])\n",
    "adata_L = adata[adata.obs['region'] == 'LV'].copy()\n",
    "\n",
    "sc.tl.rank_genes_groups(adata_L, groupby=\"sample\", method=\"wilcoxon\")\n",
    "rank_genes_df = sc.get.rank_genes_groups_df(adata_L, group = adata_L.obs['sample'].unique())\n",
    "rank_genes_df.to_csv('./Ventricle_sub/napari/noery/D10_SL_LV_new.csv')"
   ]
  },
  {
   "cell_type": "code",
   "execution_count": null,
   "id": "c01c94ad-0238-46af-aff8-78bd4d4af459",
   "metadata": {},
   "outputs": [],
   "source": [
    "adata_S = sc.read_h5ad('/workdir/jp2626/chickenheart/jy/graphst_res/noery/ST_D12_S/GraphST_ARI_mclust_cluster12.h5ad')\n",
    "napari = pd.read_csv('/workdir/jp2626/chickenheart/jy/compareRL/Ventricle_sub/napari/meta_D12_S_napari_ventricle.csv', index_col='Unnamed: 0')\n",
    "napari_clean_id = napari.index[napari['region'] != 'Unlabeled']\n",
    "adata_S = adata_S[adata_S.obs.index.isin(napari_clean_id)].copy()\n",
    "napari_clean = napari.loc[adata_S.obs.index]\n",
    "adata_S.obs['region'] = napari_clean['region']\n",
    "\n",
    "adata_L = sc.read_h5ad('/workdir/jp2626/chickenheart/jy/graphst_res/noery/ST_D12_L/GraphST_ARI_mclust_cluster10.h5ad')\n",
    "napari = pd.read_csv('/workdir/jp2626/chickenheart/jy/compareRL/Ventricle_sub/napari/meta_D12_L_napari_ventricle.csv', index_col='Unnamed: 0')\n",
    "napari_clean_id = napari.index[napari['region'] != 'Unlabeled']\n",
    "adata_L = adata_L[adata_L.obs.index.isin(napari_clean_id)].copy()\n",
    "napari_clean = napari.loc[adata_L.obs.index]\n",
    "adata_L.obs['region'] = napari_clean['region']\n",
    "\n",
    "adata = ad.concat([adata_S, adata_L])\n",
    "adata_L = adata[adata.obs['region'] == 'LV'].copy()\n",
    "\n",
    "sc.tl.rank_genes_groups(adata_L, groupby=\"sample\", method=\"wilcoxon\")\n",
    "rank_genes_df = sc.get.rank_genes_groups_df(adata_L, group = adata_L.obs['sample'].unique())\n",
    "rank_genes_df.to_csv('./Ventricle_sub/napari/noery/D12_SL_LV_new.csv')"
   ]
  },
  {
   "cell_type": "markdown",
   "id": "0179b794-c5ee-4df1-a8ad-2e7806e3b954",
   "metadata": {},
   "source": [
    "# DEG LAL LV vs RV "
   ]
  },
  {
   "cell_type": "code",
   "execution_count": null,
   "id": "1c9d7805-b81f-4ba8-8fe6-08a7f1cf5ec5",
   "metadata": {},
   "outputs": [],
   "source": [
    "adata_L = sc.read_h5ad('/workdir/jp2626/chickenheart/jy/graphst_res/noery/ST_D10_L/GraphST_ARI_mclust_cluster12.h5ad')\n",
    "napari = pd.read_csv('/workdir/jp2626/chickenheart/jy/compareRL/Ventricle_sub/napari/noery/meta_D10_L_napari_ventricle.csv', index_col='Unnamed: 0')\n",
    "napari_clean_id = napari.index[napari['region'] != 'Unlabeled']\n",
    "adata_L = adata_L[adata_L.obs.index.isin(napari_clean_id)].copy()\n",
    "napari_clean = napari.loc[adata_L.obs.index]\n",
    "adata_L.obs['region'] = napari_clean['region']\n",
    "\n",
    "sc.tl.rank_genes_groups(adata_L, groupby=\"region\", method=\"wilcoxon\")\n",
    "rank_genes_df = sc.get.rank_genes_groups_df(adata_L, group = adata_L.obs['region'].unique())\n",
    "rank_genes_df.to_csv('./Ventricle_sub/napari/noery/D10_L_LR_new.csv')"
   ]
  },
  {
   "cell_type": "code",
   "execution_count": null,
   "id": "d69b6bcd-e5cc-4b1d-a444-a2ff0a78b0d7",
   "metadata": {},
   "outputs": [],
   "source": [
    "adata_L = sc.read_h5ad('/workdir/jp2626/chickenheart/jy/graphst_res/noery/ST_D12_L/GraphST_ARI_mclust_cluster10.h5ad')\n",
    "napari = pd.read_csv('/workdir/jp2626/chickenheart/jy/compareRL/Ventricle_sub/napari/noery/meta_D12_L_napari_ventricle.csv', index_col='Unnamed: 0')\n",
    "napari_clean_id = napari.index[napari['region'] != 'Unlabeled']\n",
    "adata_L = adata_L[adata_L.obs.index.isin(napari_clean_id)].copy()\n",
    "napari_clean = napari.loc[adata_L.obs.index]\n",
    "adata_L.obs['region'] = napari_clean['region']\n",
    "\n",
    "sc.tl.rank_genes_groups(adata_L, groupby=\"region\", method=\"wilcoxon\")\n",
    "rank_genes_df = sc.get.rank_genes_groups_df(adata_L, group = adata_L.obs['region'].unique())\n",
    "rank_genes_df.to_csv('./Ventricle_sub/napari/noery/D12_L_LR_new.csv')"
   ]
  },
  {
   "cell_type": "code",
   "execution_count": null,
   "id": "dd3e6fa9-7752-462c-8408-ae20b5a93bd3",
   "metadata": {},
   "outputs": [],
   "source": []
  }
 ],
 "metadata": {
  "kernelspec": {
   "display_name": "base",
   "language": "python",
   "name": "base"
  },
  "language_info": {
   "codemirror_mode": {
    "name": "ipython",
    "version": 3
   },
   "file_extension": ".py",
   "mimetype": "text/x-python",
   "name": "python",
   "nbconvert_exporter": "python",
   "pygments_lexer": "ipython3",
   "version": "3.12.7"
  }
 },
 "nbformat": 4,
 "nbformat_minor": 5
}
