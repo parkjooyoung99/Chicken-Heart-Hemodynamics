{
 "cells": [
  {
   "cell_type": "code",
   "execution_count": null,
   "id": "1def4971-5ec9-4edc-9866-c6fbec36280c",
   "metadata": {},
   "outputs": [],
   "source": [
    "import matplotlib.pyplot as plt\n",
    "from matplotlib import cm\n",
    "from matplotlib.ticker import LinearLocator\n",
    "from matplotlib.colors import LinearSegmentedColormap\n",
    "from mpl_toolkits.mplot3d import Axes3D\n",
    "from mpl_toolkits.axes_grid1 import make_axes_locatable\n",
    "import random\n",
    "import os\n",
    "import sys\n",
    "import time\n",
    "import csv\n",
    "import re\n",
    "import pandas as pd\n",
    "import scanpy as sc\n",
    "import numpy as np\n",
    "import scipy.spatial as scisp\n",
    "from scipy.sparse import coo_matrix, csr_matrix, csc_matrix\n",
    "import math\n",
    "import anndata as ad\n",
    "import igraph as ig\n",
    "import plotly.graph_objects as go\n",
    "import scanpy.external as sce\n",
    "import scipy.sparse as sp\n",
    "from statsmodels.nonparametric.smoothers_lowess import lowess\n",
    "from sklearn.metrics import r2_score\n",
    "from scipy.interpolate import interp1d\n",
    "import seaborn as sns\n",
    "from copy import copy\n",
    "import matplotlib as mpl\n",
    "reds = copy(mpl.cm.Reds)\n",
    "reds.set_under(\"lightgray\")"
   ]
  },
  {
   "cell_type": "markdown",
   "id": "a949fb7d-4599-4e85-b020-1b550cb3efe5",
   "metadata": {},
   "source": [
    "# Preprocess"
   ]
  },
  {
   "cell_type": "code",
   "execution_count": null,
   "id": "479ce3c2-f0f8-4c32-9faf-fb18458b88af",
   "metadata": {},
   "outputs": [],
   "source": [
    "# raw data\n",
    "adata = sc.read_h5ad('/fs/cbsuvlaminck2/workdir/ra574/slideseq/Parse_Chick_Heart/DGE_unfiltered.h5ad')\n",
    "\n",
    "# Doublet removing, qc metrics\n",
    "sce.pp.scrublet(adata,n_prin_comps=6) \n",
    "sce.pl.scrublet_score_distribution(adata) \n",
    "adata= adata[adata.obs['doublet_score']<0.25] \n",
    "mito_genes = (\"ND1\", \"ND2\", \"COX1\", \"COII\", \"ATP8\", \"ATP6\", \"COX3\", \"ND3\", \"ND4L\", \"ND4\", \"ND5\", \"CYTB\", \"ND6\") \n",
    "adata.var['mt'] = [x in mito_genes for x in adata.var_names]\n",
    "sc.pp.calculate_qc_metrics(adata, qc_vars=['mt'], percent_top=None, log1p=False, inplace=True) \n",
    "adata = adata[(adata.obs.n_genes_by_counts < 10000) & (adata.obs.n_genes_by_counts > 300), :] \n",
    "adata = adata[adata.obs.pct_counts_mt < 10, :] \n",
    "\n",
    "# Add raw count layer\n",
    "adata.layers['count'] = adata.X\n",
    "\n",
    "# Normalization\n",
    "sc.pp.normalize_total(adata, target_sum=1e4) \n",
    "sc.pp.log1p(adata)\n",
    "adata.layers['lognorm'] = adata.X"
   ]
  },
  {
   "cell_type": "markdown",
   "id": "48ac6f62-b9ab-4c3e-b4db-b9e30452b9ca",
   "metadata": {},
   "source": [
    "# Add metadata"
   ]
  },
  {
   "cell_type": "code",
   "execution_count": null,
   "id": "5ea6074b-0433-40f8-bcbb-8599646258e4",
   "metadata": {},
   "outputs": [],
   "source": [
    "adata.obs['site'] = np.where(\n",
    "    adata.obs['sample'].str.contains('RAL', na=False), 'RAL',\n",
    "    np.where(\n",
    "        adata.obs['sample'].str.contains('LAL', na=False), 'LAL',\n",
    "        'Sham'\n",
    "    )\n",
    ")\n",
    "adata.obs['day'] = adata.obs['sample'].str.replace('_RAL|_LAL|_Sham', '', regex=True)"
   ]
  },
  {
   "cell_type": "markdown",
   "id": "972f68fc-78cb-4030-88e8-a37967420c31",
   "metadata": {},
   "source": [
    "# PCA"
   ]
  },
  {
   "cell_type": "code",
   "execution_count": null,
   "id": "c5b288e8-5114-4207-8f71-52e80946a492",
   "metadata": {},
   "outputs": [],
   "source": [
    "sc.pp.highly_variable_genes(adata, n_top_genes=2000)\n",
    "sc.pp.scale(adata)\n",
    "sc.tl.pca(adata)\n",
    "sc.pl.pca_variance_ratio(adata, n_pcs=50, log=True)"
   ]
  },
  {
   "cell_type": "markdown",
   "id": "914c9727-348e-4565-8e92-54c3b972a17a",
   "metadata": {},
   "source": [
    "# Clustering"
   ]
  },
  {
   "cell_type": "code",
   "execution_count": null,
   "id": "5ccd0d94-35ec-4bca-acfb-d905b5e9ac1b",
   "metadata": {},
   "outputs": [],
   "source": [
    "sc.pp.neighbors(adata, n_pcs=30)\n",
    "sc.tl.umap(adata)\n",
    "sc.tl.leiden(adata, resolution = 0.7, key_added='leiden_0.7')"
   ]
  },
  {
   "cell_type": "markdown",
   "id": "90beb9d4-fbc2-4f38-a174-ff00d84581b2",
   "metadata": {},
   "source": [
    "# Global Annotation"
   ]
  },
  {
   "cell_type": "code",
   "execution_count": null,
   "id": "32800ba4-fdf1-4b17-be2f-dffb2957baf5",
   "metadata": {},
   "outputs": [],
   "source": [
    "import os\n",
    "import scanpy as sc\n",
    "import matplotlib.pyplot as plt\n",
    "\n",
    "# Figure params\n",
    "reds = \"Reds\"\n",
    "ncols = 6\n",
    "nrows = 9  \n",
    "figsize = 5\n",
    "wspace = 0\n",
    "\n",
    "fig, axs = plt.subplots(\n",
    "    nrows=nrows,\n",
    "    ncols=ncols,\n",
    "    figsize=(ncols * figsize + figsize * wspace * (ncols - 1), nrows * figsize),\n",
    ")\n",
    "\n",
    "plt.subplots_adjust(wspace=wspace)\n",
    "\n",
    "# Marker genes\n",
    "cell_types_markers = [\n",
    "    # Epicardial cells\n",
    "    ['TBX18', 'ALDH1A2', 'WT1', 'TGFB2', 'TCF21', None],\n",
    "    # Mural cells\n",
    "    ['RGS5','MYH11','TAGLN','ACTA2',None,None],\n",
    "    # Cardiomyocytes cells\n",
    "    ['TNNT2', 'MYH7', 'ACTN2', 'TTN', 'ACTC1', None],\n",
    "    # Endothelial cells\n",
    "    ['PECAM1', 'CD34', 'CDH5', 'TEK', 'KDR', 'ACE'],\n",
    "    # Valve cells\n",
    "    ['MSX1','SOX9'],\n",
    "    # Erythrocytes\n",
    "    ['HBBA', 'HBAD', 'HBA1', None, None, None],\n",
    "    # Macrophages\n",
    "    ['MERTK', 'CSF1R', 'PTPRC', None, None, None],\n",
    "    # Fibroblasts\n",
    "    ['COL1A1', 'PDGFRA', 'COL3A1', None, None, None],\n",
    "    # Myocardial\n",
    "    ['TNNC1','TNNT2',None,None,None,None]\n",
    "]\n",
    "\n",
    "# Plot marker gene exp\n",
    "for i, markers in enumerate(cell_types_markers):\n",
    "    for j, marker in enumerate(markers):\n",
    "        if marker is not None:\n",
    "            # Plot each marker individually for the current cell type\n",
    "            sc.pl.umap(\n",
    "                adata,\n",
    "                color=[marker],  # Plot each marker individually\n",
    "                cmap=reds,\n",
    "                legend_loc=\"on data\",\n",
    "                ax=axs[i, j],  # Specify the axis for each marker\n",
    "                show=False\n",
    "            )\n",
    "\n",
    "for j in range(len(cell_types_markers) * 6, len(axs.flat)):\n",
    "    fig.delaxes(axs.flat[j])\n",
    "plt.tight_layout()\n",
    "plt.savefig('/workdir/jp2626/chicken/figures/chicken_sc_global_markergenexp.png', format='png', dpi=300)\n",
    "plt.show()\n"
   ]
  },
  {
   "cell_type": "code",
   "execution_count": null,
   "id": "a4658b47-9aff-4e42-8390-8ab75ac82a94",
   "metadata": {},
   "outputs": [],
   "source": [
    "# Define categories\n",
    "fibroblasts = {'3', '4', '5'}\n",
    "endothelial = {'1','10','11'}\n",
    "cardiomyocytes = {'0','2','7','12'}\n",
    "macrophages = {'15', '20'}\n",
    "parathyroid = {'19'}\n",
    "neural = {'16','17'}\n",
    "epi = {'6','8','9','14'}\n",
    "mural = {'18'}\n",
    "\n",
    "\n",
    "# Convert to string and apply conditions\n",
    "conditions = [\n",
    "    adata.obs['leiden_0.7'].astype(str).isin(fibroblasts),\n",
    "    adata.obs['leiden_0.7'].astype(str).isin(endothelial),\n",
    "    adata.obs['leiden_0.7'].astype(str).isin(cardiomyocytes),\n",
    "    adata.obs['leiden_0.7'].astype(str).isin(macrophages),\n",
    "    adata.obs['leiden_0.7'].astype(str).isin(parathyroid),\n",
    "    adata.obs['leiden_0.7'].astype(str).isin(neural),\n",
    "    adata.obs['leiden_0.7'].astype(str).isin(epi),\n",
    "    adata.obs['leiden_0.7'].astype(str).isin(mural)\n",
    "]\n",
    "choices = ['Fibroblasts', 'Endothelial cells', 'Cardiomyocytes', 'Macrophages', 'Parathyroid cells', 'Neural cells','Epicardial cells','Mural cells']\n",
    "\n",
    "adata.obs['global_celltype'] = np.select(conditions, choices, default='Erythrocytes')"
   ]
  },
  {
   "cell_type": "markdown",
   "id": "641920e7-e2a9-4563-8836-73b965faa818",
   "metadata": {},
   "source": [
    "# Subset Data"
   ]
  },
  {
   "cell_type": "code",
   "execution_count": null,
   "id": "81bb613b-443e-4bb4-8d38-72098aae4256",
   "metadata": {},
   "outputs": [],
   "source": [
    "adata_fib = adata[adata.obs['global_celltype'] == 'Fibroblasts'].copy()\n",
    "adata_fib.write_h5ad('./chicken_qc_processed_rohitadd_fib.h5ad')\n",
    "adata_cardi = adata[adata.obs['global_celltype'] == 'Cardiomyocytes'].copy()\n",
    "adata_cardi.write_h5ad('./chicken_qc_processed_rohitadd_cardi.h5ad')\n",
    "adata_endo = adata[adata.obs['global_celltype'] == 'Endothelial cells'].copy()\n",
    "adata_endo.write_h5ad('./chicken_qc_processed_rohitadd_endo.h5ad')\n",
    "adata_endo = adata[adata.obs['global_celltype'] == 'Epicardial cells'].copy()\n",
    "adata_endo.write_h5ad('./chicken_qc_processed_rohitadd_epi.h5ad')"
   ]
  },
  {
   "cell_type": "markdown",
   "id": "9a089080-2559-45e2-b4bc-334b78bf31bf",
   "metadata": {},
   "source": [
    "# Transfer subtype annotation"
   ]
  },
  {
   "cell_type": "code",
   "execution_count": null,
   "id": "34ff443f-250b-4239-951e-6120e02b0af1",
   "metadata": {},
   "outputs": [],
   "source": [
    "epi = pd.read_csv('./epi/meta_fin.csv',index_col =  'Unnamed: 0')\n",
    "fib = pd.read_csv('./fib/meta_fin.csv',index_col =  'Unnamed: 0')\n",
    "endo = pd.read_csv('./endo/meta_fin.csv',index_col =  'Unnamed: 0')\n",
    "cardi = pd.read_csv('./cardi/meta_fin.csv',index_col =  'Unnamed: 0')\n",
    "\n",
    "for meta in [epi, fib, endo, cardi]:\n",
    "    common_indices = meta.index.intersection(adata.obs.index) \n",
    "    adata.obs.loc[common_indices, 'sub_celltype_fin'] = meta.loc[common_indices, 'sub_celltype_v3_rename_fin'].astype(str).str.replace('_0', '', regex=False)\n"
   ]
  },
  {
   "cell_type": "code",
   "execution_count": null,
   "id": "c7ebacc2-cbf0-4967-8444-b069b6834305",
   "metadata": {},
   "outputs": [],
   "source": []
  }
 ],
 "metadata": {
  "kernelspec": {
   "display_name": "base",
   "language": "python",
   "name": "base"
  },
  "language_info": {
   "codemirror_mode": {
    "name": "ipython",
    "version": 3
   },
   "file_extension": ".py",
   "mimetype": "text/x-python",
   "name": "python",
   "nbconvert_exporter": "python",
   "pygments_lexer": "ipython3",
   "version": "3.12.7"
  }
 },
 "nbformat": 4,
 "nbformat_minor": 5
}
