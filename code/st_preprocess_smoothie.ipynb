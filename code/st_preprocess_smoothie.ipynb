{
 "cells": [
  {
   "cell_type": "code",
   "execution_count": null,
   "id": "2f12317a-8ce4-4f19-acb9-c340e9851cbd",
   "metadata": {},
   "outputs": [],
   "source": [
    "import matplotlib.pyplot as plt\n",
    "from matplotlib import cm\n",
    "from matplotlib.ticker import LinearLocator\n",
    "from matplotlib.colors import LinearSegmentedColormap\n",
    "from mpl_toolkits.mplot3d import Axes3D\n",
    "from mpl_toolkits.axes_grid1 import make_axes_locatable\n",
    "import random\n",
    "import os\n",
    "import sys\n",
    "import time\n",
    "import csv\n",
    "import re\n",
    "import pandas as pd\n",
    "import scanpy as sc\n",
    "import numpy as np\n",
    "import scipy.spatial as scisp\n",
    "from scipy.sparse import coo_matrix, csr_matrix, csc_matrix\n",
    "import math\n",
    "import anndata as ad\n",
    "import igraph as ig\n",
    "import plotly.graph_objects as go\n",
    "import scanpy.external as sce\n",
    "import scipy.sparse as sp\n",
    "from statsmodels.nonparametric.smoothers_lowess import lowess\n",
    "from sklearn.metrics import r2_score\n",
    "from scipy.interpolate import interp1d\n",
    "import seaborn as sns\n",
    "import os\n",
    "from copy import copy\n",
    "import matplotlib as mpl\n",
    "import re\n",
    "reds = copy(mpl.cm.Reds)\n",
    "reds.set_under(\"lightgray\")\n",
    "sc.settings.verbosity = 2 # verbosity: errors (0), warnings (1), info (2), hints (3)\n",
    "sc.settings.set_figure_params(dpi=100, facecolor=\"white\", frameon=True, figsize=(5, 9))\n",
    "sc.settings.n_jobs=20\n",
    "pd.set_option('display.max_rows', 500)\n",
    "pd.set_option('display.max_columns', 500)\n",
    "pd.set_option('display.width', 500)"
   ]
  },
  {
   "cell_type": "markdown",
   "id": "e74de69e-e2ca-4ae9-b844-40fc134a1ffe",
   "metadata": {},
   "source": [
    "# Preprocessing spatial data"
   ]
  },
  {
   "cell_type": "code",
   "execution_count": null,
   "id": "335b646d-c020-4edc-91d5-00bcdc278413",
   "metadata": {},
   "outputs": [],
   "source": [
    "adatast = sc.read_h5ad('/workdir/jp2626/chickenheart/jy/data/raw_with_RAL_updated.h5ad')\n",
    "\n",
    "for i in adatast.obs['sample'].unique():\n",
    "    if not re.search('_L_2', i):\n",
    "        print(i)\n",
    "        \n",
    "        adata_subset = adatast[adatast.obs['sample'] == i].copy()\n",
    "        adata_subset.layers['raw_X'] = adata_subset.X\n",
    "        adata_subset.var_names_make_unique()\n",
    "        adata_subset.var[\"mt\"] = adata_subset.var_names.str.startswith(\"MT-\")\n",
    "        sc.pp.calculate_qc_metrics(adata_subset, qc_vars=[\"mt\"], inplace=True)     \n",
    "        sc.pp.filter_cells(adata_subset, min_counts=100)\n",
    "        adata_subset.obsm[\"spatial_distances\"] = scisp.distance.squareform(scisp.distance.pdist(adata_subset.obsm['spatial']))\n",
    "        adata_subset.obs[\"spatial_neighbors_100_true\"] = np.sum(adata_subset.obsm[\"spatial_distances\"] < 100, axis=0)\n",
    "        adata_subset = adata_subset[adata_subset.obs['spatial_neighbors_100_true'] >= 15, ]\n",
    "        \n",
    "        adata_subset.write_h5ad(f'data/raw_ST_{i}.h5ad')"
   ]
  },
  {
   "cell_type": "markdown",
   "id": "03d3750e-ad98-4c88-95fc-a722baddbf33",
   "metadata": {},
   "source": [
    "# Smoothie"
   ]
  },
  {
   "cell_type": "code",
   "execution_count": null,
   "id": "94503c0e-1f27-4d13-ac33-b004d9a37bde",
   "metadata": {},
   "outputs": [],
   "source": [
    "import sys\n",
    "sys.path.append(\"/workdir/jp2626/Smoothie/src\")\n",
    "\n",
    "from gaussian_smoothing import *\n",
    "from spatial_correlation import *\n",
    "from network_analysis import *\n",
    "from multi_sample_integration import *\n",
    "from plotting import *"
   ]
  },
  {
   "cell_type": "code",
   "execution_count": null,
   "id": "59892027-212f-4e02-a816-077979066af6",
   "metadata": {},
   "outputs": [],
   "source": [
    "for i in adatast.obs['sample'].unique():\n",
    "\n",
    "    # Check if '_L_2' is not in the sample name\n",
    "    if not re.search('_L_2', i):\n",
    "        print(i)\n",
    "\n",
    "        is_all_integer = np.all(np.floor(adata_subset.X.toarray()) == adata_subset.X.toarray())\n",
    "        print(is_all_integer)\n",
    "\n",
    "        sc.pp.normalize_total(adata_subset)\n",
    "        sc.pp.log1p(adata_subset)\n",
    "\n",
    "        grid_based_or_not = False\n",
    "        gaussian_sd = 46.37\n",
    "        min_spots_under_gaussian = 10\n",
    "        stride = None\n",
    "        grid_fitting_dist = None\n",
    "        num_processes = 10\n",
    "        num_data_splits = None\n",
    "        sm_adata = run_parallelized_smoothing(adata_subset,\n",
    "                                               grid_based_or_not,\n",
    "                                               gaussian_sd,\n",
    "                                               min_spots_under_gaussian,\n",
    "                                               stride,\n",
    "                                               grid_fitting_dist,\n",
    "                                               num_processes,\n",
    "                                               num_data_splits)\n",
    "\n",
    "        # Save the smoothed data\n",
    "        sm_adata.write_h5ad(f'data/smoothie_ST_{i}.h5ad')\n"
   ]
  }
 ],
 "metadata": {
  "kernelspec": {
   "display_name": "base",
   "language": "python",
   "name": "base"
  },
  "language_info": {
   "codemirror_mode": {
    "name": "ipython",
    "version": 3
   },
   "file_extension": ".py",
   "mimetype": "text/x-python",
   "name": "python",
   "nbconvert_exporter": "python",
   "pygments_lexer": "ipython3",
   "version": "3.12.7"
  }
 },
 "nbformat": 4,
 "nbformat_minor": 5
}
