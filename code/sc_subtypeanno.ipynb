{
 "cells": [
  {
   "cell_type": "code",
   "execution_count": null,
   "id": "a83a17d3-4607-4dde-93dc-921965a3bef7",
   "metadata": {},
   "outputs": [],
   "source": [
    "import matplotlib.pyplot as plt\n",
    "from matplotlib import cm\n",
    "from matplotlib.ticker import LinearLocator\n",
    "from matplotlib.colors import LinearSegmentedColormap\n",
    "from mpl_toolkits.mplot3d import Axes3D\n",
    "from mpl_toolkits.axes_grid1 import make_axes_locatable\n",
    "import random\n",
    "import os\n",
    "import sys\n",
    "import time\n",
    "import csv\n",
    "import re\n",
    "import pandas as pd\n",
    "import scanpy as sc\n",
    "import numpy as np\n",
    "import scipy.spatial as scisp\n",
    "from scipy.sparse import coo_matrix, csr_matrix, csc_matrix\n",
    "import math\n",
    "import anndata as ad\n",
    "import igraph as ig\n",
    "import plotly.graph_objects as go\n",
    "import scanpy.external as sce\n",
    "import scipy.sparse as sp\n",
    "from statsmodels.nonparametric.smoothers_lowess import lowess\n",
    "from sklearn.metrics import r2_score\n",
    "from scipy.interpolate import interp1d\n",
    "import seaborn as sns\n",
    "from copy import copy\n",
    "import matplotlib as mpl\n",
    "reds = copy(mpl.cm.Reds)\n",
    "reds.set_under(\"lightgray\")"
   ]
  },
  {
   "cell_type": "markdown",
   "id": "a4d375a8-9814-479e-a0eb-dc0b1a5ddce9",
   "metadata": {},
   "source": [
    "# Cardiomyocytes"
   ]
  },
  {
   "cell_type": "markdown",
   "id": "9753f363-1cfc-4bbe-95fc-90d83d0863d1",
   "metadata": {},
   "source": [
    "## Preprocess + PCA"
   ]
  },
  {
   "cell_type": "code",
   "execution_count": null,
   "id": "2077a5a9-8eb8-4521-817e-348ea426ad25",
   "metadata": {},
   "outputs": [],
   "source": [
    "adata = sc.read_h5ad('chicken_qc_processed_rohitadd_cardi.h5ad')\n",
    "adata.X = adata.layers['count'].copy()\n",
    "print(np.min(adata.X), np.max(adata.X))\n",
    "\n",
    "sc.pp.normalize_total(adata, target_sum=1e4) \n",
    "sc.pp.log1p(adata)\n",
    "sc.pp.highly_variable_genes(adata, n_top_genes=2000)\n",
    "\n",
    "sc.pp.scale(adata)\n",
    "sc.tl.pca(adata)\n",
    "sc.pl.pca_variance_ratio(adata, n_pcs=50, log=True,save = '_pca_cardi.png')\n",
    "\n",
    "adata.write_h5ad('chicken_qc_processed_rohitadd_cardi.h5ad')"
   ]
  },
  {
   "cell_type": "markdown",
   "id": "6c74618a-a748-4f28-b030-ce51b38d53e7",
   "metadata": {},
   "source": [
    "## Clustering"
   ]
  },
  {
   "cell_type": "code",
   "execution_count": null,
   "id": "f0b79ad3-1717-4bc9-b6fc-f72eeb3ba34f",
   "metadata": {},
   "outputs": [],
   "source": [
    "sc.pp.neighbors(adata, n_pcs=20)\n",
    "sc.tl.umap(adata)\n",
    "sc.tl.leiden(adata, resolution = 0.7, key_added='leiden_0.7')"
   ]
  },
  {
   "cell_type": "markdown",
   "id": "56018926-dde2-4022-bdc9-05da6d9257bb",
   "metadata": {},
   "source": [
    "## DEG and Annotation"
   ]
  },
  {
   "cell_type": "code",
   "execution_count": null,
   "id": "7d51ae1c-2ae4-46ce-aef7-e2542818461f",
   "metadata": {},
   "outputs": [],
   "source": [
    "# First round\n",
    "sc.tl.rank_genes_groups(adata, groupby=\"leiden_0.5\", method=\"wilcoxon\",n_genes=5)\n",
    "rank_genes_df = sc.get.rank_genes_groups_df(adata, group = adata.obs['leiden_0.5'].unique())\n",
    "cell_types_markers = rank_genes_df['names'].tolist()\n",
    "sc.pl.dotplot(adata, cell_types_markers, groupby='leiden_0.5', dendrogram=False)\n",
    "fb1 = {'8','1','10','5','6'}\n",
    "fb2 = {'3','11','7'}\n",
    "fb3 = {'2'}\n",
    "fb4 = {'4'}\n",
    "fb5 = {'0'}\n",
    "fb6 = {'9'}\n",
    "conditions = [\n",
    "    adata.obs['leiden_0.5'].astype(str).isin(fb1),\n",
    "    adata.obs['leiden_0.5'].astype(str).isin(fb2),\n",
    "    adata.obs['leiden_0.5'].astype(str).isin(fb3),\n",
    "    adata.obs['leiden_0.5'].astype(str).isin(fb4),\n",
    "    adata.obs['leiden_0.5'].astype(str).isin(fb5),\n",
    "    adata.obs['leiden_0.5'].astype(str).isin(fb6)\n",
    "]\n",
    "choices = ['Cardi1', 'Cardi2','Cardi3','Cardi4','Cardi5','Cardi6']\n",
    "adata.obs['sub_celltype_v1'] = np.select(conditions, choices, default='Cardi')\n",
    "\n",
    "# Second round\n",
    "adata.obs['sub_celltype_v2'] = adata.obs['sub_celltype_v1'].copy()\n",
    "leiden_str = adata.obs['leiden_0.5'].astype(str)\n",
    "conditions = [\n",
    "    leiden_str == '8',\n",
    "    leiden_str == '1',\n",
    "    leiden_str == '10',\n",
    "    leiden_str == '5',\n",
    "    leiden_str == '6',\n",
    "]\n",
    "choices = ['Cardi1_1', 'Cardi1_2', 'Cardi1_2','Cardi1_3','Cardi1_4']\n",
    "adata.obs['sub_celltype_v2'] = np.select(\n",
    "    conditions, \n",
    "    choices, \n",
    "    default=adata.obs['sub_celltype_v2'].astype(str)  \n",
    ")\n",
    "\n",
    "# Third round\n",
    "sc.tl.leiden(adata, resolution = 0.7, key_added='leiden_0.7')\n",
    "sc.tl.rank_genes_groups(adata, groupby=\"leiden_0.7\", method=\"wilcoxon\",n_genes=5)\n",
    "rank_genes_df = sc.get.rank_genes_groups_df(adata, group = adata.obs['leiden_0.7'].unique())\n",
    "cell_types_markers = rank_genes_df['names'].tolist()\n",
    "sc.pl.dotplot(adata, cell_types_markers, groupby='leiden_0.7', dendrogram=False)\n",
    "adata.obs['sub_celltype_v3'] = adata.obs['sub_celltype_v2'].copy()\n",
    "leiden_str = adata.obs['leiden_0.7'].astype(str)\n",
    "conditions = [\n",
    "    leiden_str == '5',\n",
    "    leiden_str == '11'\n",
    "]\n",
    "choices = ['Cardi3_2', 'Cardi4_2']\n",
    "adata.obs['sub_celltype_v3'] = np.select(\n",
    "    conditions, \n",
    "    choices, \n",
    "    default=adata.obs['sub_celltype_v2'].astype(str)  # Append '_0' to unmatched values\n",
    ")\n",
    "adata.obs.loc[adata.obs['sub_celltype_v3'] == 'Cardi3', 'sub_celltype_v3'] = 'Cardi3_1'\n",
    "adata.obs.loc[adata.obs['sub_celltype_v3'] == 'Cardi4', 'sub_celltype_v3'] = 'Cardi4_1'\n",
    "\n",
    "# Final annotaion\n",
    "mapping = {'Cardi1_1': 'vCM-LAL',\n",
    " 'Cardi1_2': 'vCM-compact',\n",
    " 'Cardi1_3': 'vCM-inner',\n",
    " 'Cardi1_4': 'vCM_pro',\n",
    " 'Cardi2': 'vCM-immature',\n",
    " 'Cardi3_1': 'aCM-immature',\n",
    " 'Cardi3_2': 'aCM-mature',\n",
    " 'Cardi4_1': 'CM1-1',\n",
    " 'Cardi4_2': 'CM1-2',\n",
    " 'Cardi5': 'CM2',\n",
    " 'Cardi6': 'AVC'}\n",
    "adata.obs['sub_celltype_v3_fin'] = adata.obs['sub_celltype_v3'].map(mapping)"
   ]
  },
  {
   "cell_type": "markdown",
   "id": "905fc79d-65ca-46d4-881b-6347471f13b4",
   "metadata": {},
   "source": [
    "# Fibroblasts"
   ]
  },
  {
   "cell_type": "markdown",
   "id": "0aa8cfb2-64d3-4232-ad95-f3cccf757620",
   "metadata": {},
   "source": [
    "## Preprocess + PCA"
   ]
  },
  {
   "cell_type": "code",
   "execution_count": null,
   "id": "3cd77e68-a5fc-49c8-a2e1-ce56d0ed4fcf",
   "metadata": {},
   "outputs": [],
   "source": [
    "adata = sc.read_h5ad('chicken_qc_processed_rohitadd_fib.h5ad')\n",
    "adata.X = adata.layers['count'].copy()\n",
    "print(np.min(adata.X), np.max(adata.X))\n",
    "\n",
    "sc.pp.normalize_total(adata, target_sum=1e4) \n",
    "sc.pp.log1p(adata)\n",
    "sc.pp.highly_variable_genes(adata, n_top_genes=2000)\n",
    "\n",
    "sc.pp.scale(adata)\n",
    "sc.tl.pca(adata)\n",
    "sc.pl.pca_variance_ratio(adata, n_pcs=50, log=True,save = '_pca_fib.png')\n",
    "\n",
    "adata.write_h5ad('chicken_qc_processed_rohitadd_fib.h5ad')"
   ]
  },
  {
   "cell_type": "markdown",
   "id": "060bc189-a890-46ab-a007-79ce13d83e8c",
   "metadata": {},
   "source": [
    "## Clustering"
   ]
  },
  {
   "cell_type": "code",
   "execution_count": null,
   "id": "1a526289-8dc3-42a2-92aa-911554f1fbd5",
   "metadata": {},
   "outputs": [],
   "source": [
    "sc.pp.neighbors(adata, n_pcs=20)\n",
    "sc.tl.umap(adata)\n",
    "sc.tl.leiden(adata, resolution = 0.7, key_added='leiden_0.3')"
   ]
  },
  {
   "cell_type": "markdown",
   "id": "fcfafa86-9aea-4373-91a3-83781cc4e673",
   "metadata": {},
   "source": [
    "## DEG and Annotation"
   ]
  },
  {
   "cell_type": "code",
   "execution_count": null,
   "id": "a806875c-cc46-4ccd-8f70-79c1babaa8f7",
   "metadata": {},
   "outputs": [],
   "source": [
    "# First round\n",
    "fb1 = {'2','3'}\n",
    "fb2 = {'4','1'}\n",
    "conditions = [\n",
    "    adata.obs['leiden_0.3'].astype(str).isin(fb1),\n",
    "    adata.obs['leiden_0.3'].astype(str).isin(fb2)\n",
    "]\n",
    "choices = ['FB1', 'FB2']\n",
    "adata.obs['sub_celltype_v1'] = np.select(conditions, choices, default='FB3')\n",
    "sc.tl.rank_genes_groups(adata, groupby=\"sub_celltype_v1\", method=\"wilcoxon\",n_genes=5)\n",
    "rank_genes_df = sc.get.rank_genes_groups_df(adata, group = adata.obs['sub_celltype_v1'].unique())\n",
    "rank_genes_df.to_csv('fib/chicken_qc_processed_rohitadd_fib_deg_top5_subv1.csv')\n",
    "\n",
    "# Second round\n",
    "adata.obs['sub_celltype_v2'] = adata.obs['sub_celltype_v1'].copy()\n",
    "leiden_str = adata.obs['leiden_0.3'].astype(str)\n",
    "conditions = [\n",
    "    leiden_str == '3',\n",
    "    leiden_str == '2',\n",
    "    leiden_str == '1',\n",
    "    leiden_str == '4'\n",
    "]\n",
    "choices = ['FB1_1', 'FB1_2', 'FB2_2', 'FB2_1']\n",
    "adata.obs['sub_celltype_v2'] = np.select(\n",
    "    conditions, \n",
    "    choices, \n",
    "    default=adata.obs['sub_celltype_v2'].astype(str) + '_0' )\n",
    "\n",
    "# Third round\n",
    "sc.tl.leiden(adata, resolution = 0.6, key_added='leiden_0.6')\n",
    "sc.tl.rank_genes_groups(adata, groupby=\"leiden_0.6\", method=\"wilcoxon\",n_genes=5)\n",
    "rank_genes_df = sc.get.rank_genes_groups_df(adata, group = adata.obs['leiden_0.6'].unique())\n",
    "cell_types_markers = rank_genes_df['names'].tolist()\n",
    "adata.obs['sub_celltype_v3'] = adata.obs['sub_celltype_v2'].copy()\n",
    "leiden_str = adata.obs['leiden_0.6'].astype(str)\n",
    "conditions = [\n",
    "    leiden_str == '4',\n",
    "    leiden_str == '0'\n",
    "]\n",
    "choices = ['FB1_3', 'FB1_2']\n",
    "adata.obs['sub_celltype_v3'] = np.select(\n",
    "    conditions, \n",
    "    choices, \n",
    "    default=adata.obs['sub_celltype_v2'].astype(str)  \n",
    ")\n",
    "\n",
    "# Final annotaion\n",
    "mapping = {'FB1_1': 'FN1+ Valve',\n",
    " 'FB1_2': 'Valve-mature',\n",
    " 'FB1_3': 'Valve-immature',\n",
    " 'FB2_1': 'myoFB-1',\n",
    " 'FB2_2': 'myoFB-2',\n",
    " 'FB3_0': 'FB'}\n",
    "adata.obs['sub_celltype_v3_fin'] = adata.obs['sub_celltype_v3'].map(mapping)"
   ]
  },
  {
   "cell_type": "markdown",
   "id": "243d7f1f-e3fb-40af-9842-5f7c2595c4fe",
   "metadata": {},
   "source": [
    "# Epithelial "
   ]
  },
  {
   "cell_type": "markdown",
   "id": "e99d974c-e156-49d9-afe4-8e2d1f99788c",
   "metadata": {},
   "source": [
    "## Preprocess + PCA"
   ]
  },
  {
   "cell_type": "code",
   "execution_count": null,
   "id": "6f8f60cd-b77c-4bd4-ac82-d4b5ef1aaa87",
   "metadata": {},
   "outputs": [],
   "source": [
    "adata = sc.read_h5ad('chicken_qc_processed_rohitadd_epi.h5ad')\n",
    "adata.X = adata.layers['count'].copy()\n",
    "print(np.min(adata.X), np.max(adata.X))\n",
    "\n",
    "sc.pp.normalize_total(adata, target_sum=1e4) \n",
    "sc.pp.log1p(adata)\n",
    "sc.pp.highly_variable_genes(adata, n_top_genes=2000)\n",
    "\n",
    "sc.pp.scale(adata)\n",
    "sc.tl.pca(adata)\n",
    "sc.pl.pca_variance_ratio(adata, n_pcs=50, log=True,save = '_pca_epi.png')\n",
    "\n",
    "adata.write_h5ad('chicken_qc_processed_rohitadd_epi.h5ad')"
   ]
  },
  {
   "cell_type": "markdown",
   "id": "e0ed2069-b52c-45be-bf0b-d55468b413c3",
   "metadata": {},
   "source": [
    "## Clustering "
   ]
  },
  {
   "cell_type": "code",
   "execution_count": null,
   "id": "5d43d3f2-3fdc-44c9-90c7-5318cd23280b",
   "metadata": {},
   "outputs": [],
   "source": [
    "sc.pp.neighbors(adata, n_pcs=20)\n",
    "sc.tl.umap(adata)\n",
    "sc.tl.leiden(adata, resolution = 0.5, key_added='leiden_0.5')"
   ]
  },
  {
   "cell_type": "markdown",
   "id": "b70fb10f-fe22-43c6-828c-33d7a2ce1ff8",
   "metadata": {},
   "source": [
    "## DEG + Annotation"
   ]
  },
  {
   "cell_type": "code",
   "execution_count": null,
   "id": "ea8e8446-0217-4ba6-ae41-7da4f4c936ad",
   "metadata": {},
   "outputs": [],
   "source": [
    "# First round\n",
    "fb1 = {'7','1'}\n",
    "fb2 = {'4','2'}\n",
    "fb3 = {'0','5'}\n",
    "fb4 = {'6'}\n",
    "fb5 = {'8'}\n",
    "conditions = [\n",
    "    adata.obs['leiden_0.5'].astype(str).isin(fb1),\n",
    "    adata.obs['leiden_0.5'].astype(str).isin(fb2),\n",
    "    adata.obs['leiden_0.5'].astype(str).isin(fb3),\n",
    "    adata.obs['leiden_0.5'].astype(str).isin(fb4),\n",
    "    adata.obs['leiden_0.5'].astype(str).isin(fb5)\n",
    "]\n",
    "choices = ['Epi2', 'Epi4','Epi5','Epi1','Erythrocytes']\n",
    "adata.obs['sub_celltype_v1'] = np.select(conditions, choices, default='Epi3')\n",
    "sc.tl.rank_genes_groups(adata, groupby=\"sub_celltype_v1\", method=\"wilcoxon\",n_genes=5)\n",
    "rank_genes_df = sc.get.rank_genes_groups_df(adata, group = adata.obs['sub_celltype_v1'].unique())\n",
    "\n",
    "# Second round\n",
    "adata.obs['sub_celltype_v2'] = adata.obs['sub_celltype_v1'].copy()\n",
    "leiden_str = adata.obs['leiden_0.5'].astype(str)\n",
    "conditions = [\n",
    "    leiden_str == '7',\n",
    "    leiden_str == '1',\n",
    "    leiden_str == '0',\n",
    "    leiden_str == '5'\n",
    "]\n",
    "choices = ['Epi2_1', 'Epi2_2', 'Epi5_2', 'Epi5_1']\n",
    "adata.obs['sub_celltype_v2'] = np.select(\n",
    "    conditions, \n",
    "    choices, \n",
    "    default=adata.obs['sub_celltype_v2'].astype(str) + '_0'  # Append '_0' to unmatched values\n",
    ")\n",
    "\n",
    "# Third round\n",
    "adata.obs['sub_celltype_v3'] = adata.obs['sub_celltype_v2']\n",
    "\n",
    "# Final annotation\n",
    "mapping = {'Epi1_0': 'Epi-mature',\n",
    " 'Epi2_1': 'KRT7+ EpiCM',\n",
    " 'Epi2_2': 'Epi-immature',\n",
    " 'Epi3_0': 'KRT7- EpiCM',\n",
    " 'Epi4_0': 'Pericytes',\n",
    " 'Epi5_1': 'EpiM-1',\n",
    " 'Epi5_2': 'EpiM-2',\n",
    " 'Erythrocytes_0': 'Erythrocytes_0'}\n",
    "adata.obs['sub_celltype_v3_fin'] = adata.obs['sub_celltype_v3'].map(mapping)"
   ]
  },
  {
   "cell_type": "markdown",
   "id": "0c511f35-7529-4484-8246-d98578ebaaf8",
   "metadata": {},
   "source": [
    "# Endothelial cells"
   ]
  },
  {
   "cell_type": "markdown",
   "id": "0e646a58-c6f4-4505-b388-c56bc55d40e2",
   "metadata": {},
   "source": [
    "## Preprocess + PCA"
   ]
  },
  {
   "cell_type": "code",
   "execution_count": null,
   "id": "2264154b-4fb5-4eaf-9b4c-d0d851cf8a1c",
   "metadata": {},
   "outputs": [],
   "source": [
    "adata = sc.read_h5ad('chicken_qc_processed_rohitadd_endo.h5ad')\n",
    "adata.X = adata.layers['count'].copy()\n",
    "print(np.min(adata.X), np.max(adata.X))\n",
    "\n",
    "sc.pp.normalize_total(adata, target_sum=1e4) \n",
    "sc.pp.log1p(adata)\n",
    "sc.pp.highly_variable_genes(adata, n_top_genes=2000)\n",
    "\n",
    "sc.pp.scale(adata)\n",
    "sc.tl.pca(adata)\n",
    "sc.pl.pca_variance_ratio(adata, n_pcs=50, log=True,save = '_pca_endo.png')\n",
    "\n",
    "adata.write_h5ad('chicken_qc_processed_rohitadd_endo.h5ad')"
   ]
  },
  {
   "cell_type": "markdown",
   "id": "e99f58b9-eb14-4cc0-93a2-8ac229739583",
   "metadata": {},
   "source": [
    "## Clustering"
   ]
  },
  {
   "cell_type": "code",
   "execution_count": null,
   "id": "a32727b3-2b39-492f-bcf6-fc8df3ce25cc",
   "metadata": {},
   "outputs": [],
   "source": [
    "sc.pp.neighbors(adata, n_pcs=20)\n",
    "sc.tl.umap(adata)\n",
    "sc.tl.leiden(adata, resolution = 0.5, key_added='leiden_0.5')"
   ]
  },
  {
   "cell_type": "markdown",
   "id": "01d093e1-0845-4dc3-89c4-888550cae3e5",
   "metadata": {},
   "source": [
    "## DEG + Annotation"
   ]
  },
  {
   "cell_type": "code",
   "execution_count": null,
   "id": "053967b5-c4dc-44b6-a016-8ee1d16606b6",
   "metadata": {},
   "outputs": [],
   "source": [
    "# First round\n",
    "sc.tl.rank_genes_groups(adata, groupby=\"leiden_0.5\", method=\"wilcoxon\",n_genes=5)\n",
    "rank_genes_df = sc.get.rank_genes_groups_df(adata, group = adata.obs['leiden_0.5'].unique())\n",
    "fb1 = {'3', '7', '8','10','12'}\n",
    "fb2 = {'2','11','5','9'}\n",
    "conditions = [\n",
    "    adata.obs['leiden_0.5'].astype(str).isin(fb1),\n",
    "    adata.obs['leiden_0.5'].astype(str).isin(fb2)\n",
    "]\n",
    "choices = ['Endo1', 'Endo2']\n",
    "adata.obs['sub_celltype_v1'] = np.select(conditions, choices, default='Endo3')\n",
    "\n",
    "# Second round\n",
    "adata.obs['sub_celltype_v2'] = adata.obs['sub_celltype_v1'].copy()\n",
    "leiden_str = adata.obs['leiden_0.5'].astype(str)\n",
    "conditions = [\n",
    "    leiden_str == '3',\n",
    "    leiden_str == '8',\n",
    "    leiden_str == '7',\n",
    "    leiden_str == '10',\n",
    "    leiden_str == '5',\n",
    "    leiden_str == '6',\n",
    "    leiden_str.isin( ['9','2','11','12'])\n",
    "]\n",
    "choices = ['Endo1_1', 'Endo1_2', 'Endo1_3', 'Endo1_4', 'Endo2_1', 'Endo3_1','Endo2_2']\n",
    "adata.obs['sub_celltype_v2'] = np.select(\n",
    "    conditions, \n",
    "    choices, \n",
    "    default=adata.obs['sub_celltype_v2'].astype(str) + '_0' \n",
    ")\n",
    "\n",
    "# Third round\n",
    "adata.obs['sub_celltype_v3'] = adata.obs['sub_celltype_v2'].copy()\n",
    "leiden_str = adata.obs['leiden_0.7'].astype(str)\n",
    "conditions = [\n",
    "    leiden_str == '0',\n",
    "    leiden_str == '1',\n",
    "    leiden_str == '9',\n",
    "    leiden_str == '2'\n",
    "]\n",
    "choices = ['Endo3_1', 'Endo_pro', 'Endo3_3','Endo3_4']\n",
    "adata.obs['sub_celltype_v3'] = np.select(\n",
    "    conditions, \n",
    "    choices, \n",
    "    default=adata.obs['sub_celltype_v2'].astype(str)  \n",
    ")\n",
    "\n",
    "# Final annotation\n",
    "mapping = {'Endo1_1': 'VEC-1',\n",
    " 'Endo1_2': 'VEC-2',\n",
    " 'Endo1_3': 'VEC-3',\n",
    " 'Endo1_4': 'VEC-4',\n",
    " 'Endo2_1': 'TBX20+ Endo-mature',\n",
    " 'Endo2_2': 'TBX20+ Endo-immature',\n",
    " 'Endo3_1': 'FN1+ Endo',\n",
    " 'Endo3_2': 'FN1+ Endo-LAL',\n",
    " 'Endo3_3': 'FN1+ Endo-immature',\n",
    " 'Endo3_4': 'FN1+ Endo-mature',\n",
    " 'Endo_pro': 'Endo-pro'}\n",
    "adata.obs['sub_celltype_v3_fin'] = adata.obs['sub_celltype_v3'].map(mapping)"
   ]
  }
 ],
 "metadata": {
  "kernelspec": {
   "display_name": "base",
   "language": "python",
   "name": "base"
  },
  "language_info": {
   "codemirror_mode": {
    "name": "ipython",
    "version": 3
   },
   "file_extension": ".py",
   "mimetype": "text/x-python",
   "name": "python",
   "nbconvert_exporter": "python",
   "pygments_lexer": "ipython3",
   "version": "3.12.7"
  }
 },
 "nbformat": 4,
 "nbformat_minor": 5
}
